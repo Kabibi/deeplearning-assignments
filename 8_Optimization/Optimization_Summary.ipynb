{
 "cells": [
  {
   "cell_type": "markdown",
   "metadata": {
    "collapsed": true
   },
   "source": [
    "Our dataset is as follows:\n",
    "<img src=\"images/my_scatter.png\" style=\"width:300px;height:300px;\">\n",
    "\n",
    "In this assignment, I try three different optimization methods, and I will compare the result of those three methods."
   ]
  },
  {
   "cell_type": "markdown",
   "metadata": {},
   "source": [
    "Methods          |Gradient descent | GD with momentum | GD with Adam\n",
    "-----------------|------------------|-------------\n",
    "Accuracy         | 0.797           | 0.797             |0.94\n",
    "Cost function    | <img src=\"images/my_cost_gd.png\" style=\"width:100px;height:100px;\"> |<img src=\"images/my_cost_momentum.png\" style=\"width:100px;height:100px;\">|<img src=\"images/my_cost_adam.png\" style=\"width:100px;height:100px;\">\n",
    "Result           |<img src=\"images/my_result_gd.png\" style=\"width:100px;height:100px;\">|<img src=\"images/my_result_momentum.png\" style=\"width:100px;height:100px;\">|<img src=\"images/my_result_adam.png\" style=\"width:100px;height:100px;\">"
   ]
  },
  {
   "cell_type": "code",
   "execution_count": null,
   "metadata": {},
   "outputs": [],
   "source": []
  },
  {
   "cell_type": "code",
   "execution_count": null,
   "metadata": {},
   "outputs": [],
   "source": []
  }
 ],
 "metadata": {
  "kernelspec": {
   "display_name": "Python 2",
   "language": "python",
   "name": "python2"
  },
  "language_info": {
   "codemirror_mode": {
    "name": "ipython",
    "version": 2
   },
   "file_extension": ".py",
   "mimetype": "text/x-python",
   "name": "python",
   "nbconvert_exporter": "python",
   "pygments_lexer": "ipython2",
   "version": "2.7.6"
  }
 },
 "nbformat": 4,
 "nbformat_minor": 1
}
